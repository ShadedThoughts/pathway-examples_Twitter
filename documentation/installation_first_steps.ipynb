{
  "cells": [
    {
      "cell_type": "markdown",
      "metadata": {
        "id": "view-in-colab"
      },
      "source": [
        "<a href=\"https://colab.research.google.com/github/pathwaycom/pathway-examples/blob/main/documentation/installation_first_steps.ipynb\" target=\"_parent\"><img src=\"https://pathway.com/assets/colab-badge.svg\" alt=\"Run In Colab\" class=\"inline\"/></a>"
      ]
    },
    {
      "cell_type": "markdown",
      "source": [
        "# Setting up Python and Pathway\n",
        "\n",
        "Pathway requires Python >=3.8 and works best with Python 3.10.\n",
        "Pathway can be installed using pip, please register at https://pathway.com to get beta access to the package.\n",
        "\n",
        "Please copy the entire pip command in the following cell and execute the two first cells to install Pathway:\n"
      ],
      "metadata": {
        "id": "notebook-instructions"
      }
    },
    {
      "cell_type": "markdown",
      "source": [
        "Insert the pip link:"
      ],
      "metadata": {
        "id": "pip-link"
      }
    },
    {
      "cell_type": "code",
      "source": [
        "PIP_COMMAND=\"\""
      ],
      "metadata": {
        "id": "pip-package-link"
      },
      "execution_count": null,
      "outputs": []
    },
    {
      "cell_type": "code",
      "source": [
        "#@title\n",
        "import sys\n",
        "if not PIP_COMMAND:\n",
        "    print(\n",
        "        \"\u26d4 Please register at https://pathway.com/developers/documentation/introduction/installation-and-first-steps\\n\"\n",
        "        \"To get the pip package installation link!\"\n",
        "    )\n",
        "elif not (sys.version_info >= (3, 8)):\n",
        "    print(\"\u26d4 Pathway requires Python 3.8 or higher.\")\n",
        "else:\n",
        "    !{PIP_COMMAND} 1>/dev/null 2>/dev/null\n",
        "    print('\u2705 Pathway installed')\n"
      ],
      "metadata": {
        "id": "pip-installation-pathway",
        "cellView": "form"
      },
      "execution_count": null,
      "outputs": []
    },
    {
      "cell_type": "markdown",
      "id": "999e211b",
      "metadata": {},
      "source": [
        "\n",
        "# Getting started with Pathway\n",
        "\n",
        "In the following, you can find instructions on how to start using Pathway.\n",
        "\n",
        "## How to install Pathway"
      ]
    },
    {
      "cell_type": "markdown",
      "id": "da6f5511",
      "metadata": {},
      "source": [
        "You can download the current Pathway release, which is now available in Open Beta\n",
        "on a free-to-use [license](https://pathway.com/license):\n",
        "::pip-install\n",
        "::\n",
        "on a Python 3.8+ installation, and we are ready to roll!\n",
        "\n",
        "To use Pathway, we only need to import it:"
      ]
    },
    {
      "cell_type": "code",
      "execution_count": 1,
      "id": "d06ded6e",
      "metadata": {
        "execution": {
          "iopub.execute_input": "2022-12-27T23:02:42.824439Z",
          "iopub.status.busy": "2022-12-27T23:02:42.823946Z",
          "iopub.status.idle": "2022-12-27T23:02:44.357407Z",
          "shell.execute_reply": "2022-12-27T23:02:44.356360Z"
        }
      },
      "outputs": [],
      "source": [
        "import pathway as pw"
      ]
    },
    {
      "cell_type": "markdown",
      "id": "54f1e47c",
      "metadata": {},
      "source": [
        "## How to connect to your first table\n",
        "\n",
        "The first thing you need to do is to access the data you want to manipulate.\n",
        "Pathway provides many connectors to access your data and manipulate them.\n",
        "\n",
        "As an example, let's load a table using a csv connector:"
      ]
    },
    {
      "cell_type": "code",
      "execution_count": 2,
      "id": "c1d7c457",
      "metadata": {
        "execution": {
          "iopub.execute_input": "2022-12-27T23:02:44.360987Z",
          "iopub.status.busy": "2022-12-27T23:02:44.360657Z",
          "iopub.status.idle": "2022-12-27T23:02:44.370551Z",
          "shell.execute_reply": "2022-12-27T23:02:44.369839Z"
        }
      },
      "outputs": [],
      "source": [
        "\n",
        "table_dogs = pw.debug.table_from_markdown(\n",
        "    \"\"\"\n",
        "    | name  | age\n",
        "  1 | Ace   | 8\n",
        "  2 | Bella | 5\n",
        "  3 | Coco  | 13\n",
        " \"\"\"\n",
        ")"
      ]
    },
    {
      "cell_type": "markdown",
      "id": "8b6968c2",
      "metadata": {},
      "source": [
        "Now the table is loaded. But if we try to print it, we obtain a very generic output: `Table['age', 'name']`\n",
        "\n",
        "That's perfectly normal: as explained in our [introduction to programming in Pathway](https://pathway.com/developers/documentation/introduction/key-concepts), Pathway is used to schedule the operations that will be later performed in realtime by the runtime engine. To process the actual data in our example, we need to use debug function called `compute_and_print`:"
      ]
    },
    {
      "cell_type": "code",
      "execution_count": 3,
      "id": "b66cd12f",
      "metadata": {
        "execution": {
          "iopub.execute_input": "2022-12-27T23:02:44.372704Z",
          "iopub.status.busy": "2022-12-27T23:02:44.372540Z",
          "iopub.status.idle": "2022-12-27T23:02:44.378417Z",
          "shell.execute_reply": "2022-12-27T23:02:44.377668Z"
        }
      },
      "outputs": [
        {
          "name": "stdout",
          "output_type": "stream",
          "text": [
            "            | name  | age\n",
            "^2TMTFGY... | Ace   | 8\n",
            "^YHZBTNY... | Bella | 5\n",
            "^SERVYWW... | Coco  | 13\n"
          ]
        }
      ],
      "source": [
        "pw.debug.compute_and_print(table_dogs)"
      ]
    },
    {
      "cell_type": "markdown",
      "id": "0ce4384c",
      "metadata": {},
      "source": [
        "## Some basic operations using Pathway\n",
        "\n",
        "Now that we have a table, we are going to do some basic operations on it.\n",
        "You can find the full list of the supported operations in our [API documentation](https://pathway.com/developers/documentation/api-docs/pathway).\n",
        "\n",
        "The first thing we may want, is to filter on the age and keep only the dogs younger than 10 years old.\n",
        "We can use the operator `filter` on the column 'age'.\n",
        "To access a column, we can either use the notation `table_name.column_name` or use the more generic `table['column_name']`."
      ]
    },
    {
      "cell_type": "code",
      "execution_count": 4,
      "id": "9d6efde3",
      "metadata": {
        "execution": {
          "iopub.execute_input": "2022-12-27T23:02:44.380483Z",
          "iopub.status.busy": "2022-12-27T23:02:44.380314Z",
          "iopub.status.idle": "2022-12-27T23:02:44.386146Z",
          "shell.execute_reply": "2022-12-27T23:02:44.385442Z"
        }
      },
      "outputs": [
        {
          "name": "stdout",
          "output_type": "stream",
          "text": [
            "            | name  | age\n",
            "^2TMTFGY... | Ace   | 8\n",
            "^YHZBTNY... | Bella | 5\n"
          ]
        }
      ],
      "source": [
        "table_dogs_young = table_dogs.filter(\n",
        "    table_dogs.age <= 10\n",
        ")  # table_dogs['age'] also works\n",
        "pw.debug.compute_and_print(table_dogs_young)"
      ]
    },
    {
      "cell_type": "markdown",
      "id": "0c14cdf0",
      "metadata": {},
      "source": [
        "We can also apply a function to a given column.\n",
        "Let's say that we want to change the value of a column.\n",
        "Due to an error in rounding, all the age values are wrong and should be decreased by one.\n",
        "We can modify the table using the `apply` operation:"
      ]
    },
    {
      "cell_type": "code",
      "execution_count": 5,
      "id": "afa4c4be",
      "metadata": {
        "execution": {
          "iopub.execute_input": "2022-12-27T23:02:44.388629Z",
          "iopub.status.busy": "2022-12-27T23:02:44.388048Z",
          "iopub.status.idle": "2022-12-27T23:02:44.393447Z",
          "shell.execute_reply": "2022-12-27T23:02:44.392764Z"
        }
      },
      "outputs": [
        {
          "name": "stdout",
          "output_type": "stream",
          "text": [
            "            | name  | age\n",
            "^2TMTFGY... | Ace   | 7\n",
            "^YHZBTNY... | Bella | 4\n",
            "^SERVYWW... | Coco  | 12\n"
          ]
        }
      ],
      "source": [
        "table_dogs_corrected = table_dogs.select(\n",
        "    table_dogs.name, age=pw.apply((lambda x: x - 1), table_dogs[\"age\"])\n",
        ")\n",
        "pw.debug.compute_and_print(table_dogs_corrected)"
      ]
    },
    {
      "cell_type": "markdown",
      "id": "610f5d29",
      "metadata": {},
      "source": [
        "What happens here is that we select from `table_dogs` the column 'name' and a column 'age' which is obtained by the operator `apply`: `pw.apply(f,col)` applies `f` to each entry in `col` (there may be several such columns)."
      ]
    },
    {
      "cell_type": "markdown",
      "id": "f3f56be4",
      "metadata": {},
      "source": [
        "To do more complicated operations, we may need a second table:"
      ]
    },
    {
      "cell_type": "code",
      "execution_count": 6,
      "id": "7d1c51b6",
      "metadata": {
        "execution": {
          "iopub.execute_input": "2022-12-27T23:02:44.395614Z",
          "iopub.status.busy": "2022-12-27T23:02:44.395447Z",
          "iopub.status.idle": "2022-12-27T23:02:44.403141Z",
          "shell.execute_reply": "2022-12-27T23:02:44.402408Z"
        }
      },
      "outputs": [
        {
          "name": "stdout",
          "output_type": "stream",
          "text": [
            "            | name  | owner\n",
            "^2TMTFGY... | Ace   | Alice\n",
            "^YHZBTNY... | Bella | Bob\n",
            "^SERVYWW... | Coco  | Alice\n"
          ]
        }
      ],
      "source": [
        "table_dogs_owners = pw.debug.table_from_markdown(\n",
        "    \"\"\"\n",
        "    | name  | owner\n",
        "  1 | Ace   | Alice\n",
        "  2 | Bella | Bob\n",
        "  3 | Coco  | Alice\n",
        " \"\"\"\n",
        ")\n",
        "pw.debug.compute_and_print(table_dogs_owners)"
      ]
    },
    {
      "cell_type": "markdown",
      "id": "c4032657",
      "metadata": {},
      "source": [
        "We can build a table with both information using the operator `join`:"
      ]
    },
    {
      "cell_type": "code",
      "execution_count": 7,
      "id": "16fb2bd5",
      "metadata": {
        "execution": {
          "iopub.execute_input": "2022-12-27T23:02:44.405253Z",
          "iopub.status.busy": "2022-12-27T23:02:44.405089Z",
          "iopub.status.idle": "2022-12-27T23:02:44.411604Z",
          "shell.execute_reply": "2022-12-27T23:02:44.410898Z"
        }
      },
      "outputs": [
        {
          "name": "stdout",
          "output_type": "stream",
          "text": [
            "            | name  | age | owner\n",
            "^VJ3K9DF... | Ace   | 7   | Alice\n",
            "^V1RPZW8... | Bella | 4   | Bob\n",
            "^R0GE4WM... | Coco  | 12  | Alice\n"
          ]
        }
      ],
      "source": [
        "table_dogs_full = table_dogs_corrected.join(\n",
        "    table_dogs_owners, table_dogs_corrected.name == table_dogs_owners.name\n",
        ").select(table_dogs_corrected.name, table_dogs_corrected.age, table_dogs_owners.owner)\n",
        "pw.debug.compute_and_print(table_dogs_full)"
      ]
    },
    {
      "cell_type": "markdown",
      "id": "31cf859f",
      "metadata": {},
      "source": [
        "## To go further\n",
        "\n",
        "Now you know the basis of Pathway! If you want to learn more about the Pathway, you can check out our [survival guide](https://pathway.com/developers/documentation/table-operations/survival-guide/), our manual about [joins](https://pathway.com/developers/documentation/table-operations/join-manual), or our introduction about [transformers](https://pathway.com/developers/documentation/transformer-classes/transformer-intro).\n",
        "\n",
        "As we continue you will see some more advanced programming constructs which provide a lot of flexibility to Pathway:\n",
        "* Applying Machine Learning to data tables.\n",
        "* The ability to do iteration and recursion."
      ]
    },
    {
      "cell_type": "markdown",
      "id": "4302c44c",
      "metadata": {},
      "source": [
        "We will also use Pathway connectors to external data sources (for data inputs) and sinks (for data outputs)."
      ]
    },
    {
      "cell_type": "markdown",
      "id": "ba53dbff",
      "metadata": {},
      "source": [
        "This, and a lot more, is covered in recipes in the Pathway cookbook - try these for a start:\n",
        "* [Detect suspicious user activity](https://pathway.com/developers/tutorials/suspicious_activity_tumbling_window).\n",
        "* [Find the time elapsed between events in an event stream](https://pathway.com/developers/tutorials/event_stream_processing_time_between_occurrences).\n",
        "* [Compute the PageRank of a network](https://pathway.com/developers/tutorials/pagerank)."
      ]
    }
  ],
  "metadata": {
    "jupytext": {
      "cell_metadata_filter": "-all",
      "main_language": "python",
      "notebook_metadata_filter": "-all"
    },
    "language_info": {
      "codemirror_mode": {
        "name": "ipython",
        "version": 3
      },
      "file_extension": ".py",
      "mimetype": "text/x-python",
      "name": "python",
      "nbconvert_exporter": "python",
      "pygments_lexer": "ipython3",
      "version": "3.10.8"
    }
  },
  "nbformat": 4,
  "nbformat_minor": 5
}