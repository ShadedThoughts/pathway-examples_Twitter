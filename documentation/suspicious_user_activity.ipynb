{
  "cells": [
    {
      "cell_type": "markdown",
      "metadata": {
        "id": "view-in-colab"
      },
      "source": [
        "<a href=\"https://colab.research.google.com/github/pathwaycom/pathway-examples/blob/main/documentation/suspicious_user_activity.ipynb\" target=\"_parent\"><img src=\"https://pathway.com/assets/colab-badge.svg\" alt=\"Run In Colab\" class=\"inline\"/></a>"
      ]
    },
    {
      "cell_type": "markdown",
      "source": [
        "# [Colab-specific instructions] Installing Pathway with Python 3.8+\n",
        "\n",
        "> In the cell below we install pathway into a Python 3.8+ Linux runtime.\n",
        "> Please:\n",
        "> 1. **Insert in the form below the pip install link** given to you with your beta access.\n",
        "> 2. **Run the colab notebook (Ctrl+F9)**, disregarding the 'not authored by Google' warning. **The installation and loading time is less than 1 minute**.\n"
      ],
      "metadata": {
        "id": "notebook-instructions"
      }
    },
    {
      "cell_type": "code",
      "source": [
        "#@title \u2699\ufe0f Pathway installer. Please provide the pip install link for Pathway:\n",
        "# Please copy here the installation line:\n",
        "PATHWAY_INSTALL_LINE='pip install https://packages.pathway.com/...' #@param {type:\"string\"}\n",
        "\n",
        "if PATHWAY_INSTALL_LINE.startswith('pip install '):\n",
        "    PATHWAY_INSTALL_LINE=PATHWAY_INSTALL_LINE[len('pip install '):]\n",
        "\n",
        "class InterruptExecution(Exception):\n",
        "    def _render_traceback_(self):\n",
        "        pass\n",
        "\n",
        "if '...' in PATHWAY_INSTALL_LINE or not PATHWAY_INSTALL_LINE.startswith('https://'):\n",
        "    print(\n",
        "        \"\u26d4 Please register at https://pathway.com/developers/documentation/introduction/installation-and-first-steps\\n\"\n",
        "        \"to Copy & Paste the Linux pip install line for Pathway!\"\n",
        "    )\n",
        "    raise InterruptExecution\n",
        "\n",
        "if 'macosx_11_0_arm64' in PATHWAY_INSTALL_LINE:\n",
        "    PATHWAY_INSTALL_LINE = PATHWAY_INSTALL_LINE.replace('macosx_11_0_arm64','manylinux_2_12_x86_64.manylinux2010_x86_64')\n",
        "DO_INSTALL = False\n",
        "import sys\n",
        "if sys.version_info >= (3, 8):\n",
        "    print(f'\u2705 Python {sys.version} is active.')\n",
        "    try:\n",
        "        import pathway as pw\n",
        "        print('\u2705 Pathway successfully imported.')\n",
        "    except:\n",
        "        DO_INSTALL = True\n",
        "else:\n",
        "    print(\"\u26d4 Pathway requires Python 3.8 or higher.\")\n",
        "    raise InterruptExecution\n",
        "\n",
        "if DO_INSTALL:\n",
        "    !ls $(dirname $(which python))/../lib/python*/*-packages/pathway 1>/dev/null 2>/dev/null || echo \"\u231b Installing Pathway. This usually takes a few seconds...\"\n",
        "    !ls $(dirname $(which python))/../lib/python*/*-packages/pathway 1>/dev/null 2>/dev/null || pip install {PATHWAY_INSTALL_LINE} 1>/dev/null 2>/dev/null\n",
        "    !ls $(dirname $(which python))/../lib/python*/*-packages/pathway 1>/dev/null 2>/dev/null || echo \"\u26d4 Installation failed. Don't be shy to reach out to the community at https://pathway.com !\"\n",
        "    !ls $(dirname $(which python))/../lib/python*/*-packages/pathway 1>/dev/null 2>/dev/null && echo \"\u2705 All installed. Enjoy Pathway!\"\n"
      ],
      "metadata": {
        "id": "pip-installation-pathway",
        "cellView": "form"
      },
      "execution_count": null,
      "outputs": []
    },
    {
      "cell_type": "markdown",
      "id": "f608c4a7",
      "metadata": {
        "lines_to_next_cell": 0,
        "tags": []
      },
      "source": [
        "# Detecting suspicious user activity with Tumbling Window group-by\n",
        "\n",
        "Our task is to detect suspicious user login attempts during some period of time.\n",
        "The main ingredient used is grouping over a tumbling window.\n",
        "\n",
        "We have an input data table with following columns:\n",
        "* `username`,\n",
        "* whether the login was `successful`,\n",
        "* `time` of a login attempt,\n",
        "* `ip_address` of a login.\n",
        "\n",
        "\n",
        "First we ingest the data."
      ]
    },
    {
      "cell_type": "code",
      "execution_count": 1,
      "id": "a3af5b7b",
      "metadata": {
        "execution": {
          "iopub.execute_input": "2023-01-20T13:47:25.634925Z",
          "iopub.status.busy": "2023-01-20T13:47:25.634674Z",
          "iopub.status.idle": "2023-01-20T13:47:25.636783Z",
          "shell.execute_reply": "2023-01-20T13:47:25.636508Z"
        }
      },
      "outputs": [],
      "source": [
        "# Uncomment to download the required files.\n",
        "# %%capture --no-display\n",
        "# !wget https://public-pathway-releases.s3.eu-central-1.amazonaws.com/data/suspicious_users_tutorial_logins.csv -O logins2.csv"
      ]
    },
    {
      "cell_type": "code",
      "execution_count": 2,
      "id": "85b81a50",
      "metadata": {
        "execution": {
          "iopub.execute_input": "2023-01-20T13:47:25.638180Z",
          "iopub.status.busy": "2023-01-20T13:47:25.638029Z",
          "iopub.status.idle": "2023-01-20T13:47:26.672957Z",
          "shell.execute_reply": "2023-01-20T13:47:26.672534Z"
        }
      },
      "outputs": [],
      "source": [
        "from datetime import datetime\n",
        "import pathway as pw\n",
        "\n",
        "logins = pw.csv.read(\"logins.csv\", value_columns=[\"username\", \"successful\", \"time\", \"ip_address\"])"
      ]
    },
    {
      "cell_type": "code",
      "execution_count": 3,
      "id": "3667bb83",
      "metadata": {
        "execution": {
          "iopub.execute_input": "2023-01-20T13:47:26.675054Z",
          "iopub.status.busy": "2023-01-20T13:47:26.674813Z",
          "iopub.status.idle": "2023-01-20T13:47:26.677870Z",
          "shell.execute_reply": "2023-01-20T13:47:26.677543Z"
        }
      },
      "outputs": [],
      "source": [
        "logins = logins.select(\n",
        "    *pw.this.without(pw.this.successful),\n",
        "    successful=(pw.this.successful==\"True\")\n",
        ")"
      ]
    },
    {
      "cell_type": "code",
      "execution_count": 4,
      "id": "884b266e",
      "metadata": {
        "execution": {
          "iopub.execute_input": "2023-01-20T13:47:26.679490Z",
          "iopub.status.busy": "2023-01-20T13:47:26.679192Z",
          "iopub.status.idle": "2023-01-20T13:47:26.681568Z",
          "shell.execute_reply": "2023-01-20T13:47:26.681265Z"
        }
      },
      "outputs": [],
      "source": [
        "logins = logins.select(\n",
        "    *pw.this.without(pw.this.successful),\n",
        "    successful=pw.cast(bool, pw.this.successful),\n",
        ")"
      ]
    },
    {
      "cell_type": "markdown",
      "id": "53712399",
      "metadata": {},
      "source": [
        "We then filter attempts and keep only the unsuccessful ones."
      ]
    },
    {
      "cell_type": "code",
      "execution_count": 5,
      "id": "36a51618",
      "metadata": {
        "execution": {
          "iopub.execute_input": "2023-01-20T13:47:26.682893Z",
          "iopub.status.busy": "2023-01-20T13:47:26.682708Z",
          "iopub.status.idle": "2023-01-20T13:47:26.684694Z",
          "shell.execute_reply": "2023-01-20T13:47:26.684399Z"
        }
      },
      "outputs": [],
      "source": [
        "processed = logins.filter(~pw.this.successful)"
      ]
    },
    {
      "cell_type": "markdown",
      "id": "5af59e77",
      "metadata": {},
      "source": [
        "We now group remaining attempts by login `time` and `ip_address` (ignoring seconds in `time` of login)."
      ]
    },
    {
      "cell_type": "code",
      "execution_count": 6,
      "id": "2e6b8c22",
      "metadata": {
        "execution": {
          "iopub.execute_input": "2023-01-20T13:47:26.685994Z",
          "iopub.status.busy": "2023-01-20T13:47:26.685835Z",
          "iopub.status.idle": "2023-01-20T13:47:26.688309Z",
          "shell.execute_reply": "2023-01-20T13:47:26.687999Z"
        }
      },
      "outputs": [],
      "source": [
        "by_minutes = processed.select(\n",
        "    pw.this.ip_address,\n",
        "    time=pw.apply(\n",
        "        lambda timestamp_str: (datetime.fromtimestamp(int(timestamp_str)).isoformat())[:-2]+\"00\",\n",
        "        pw.this.time)\n",
        ")\n",
        "grouped_by_minutes = by_minutes.groupby(pw.this.time, pw.this.ip_address)"
      ]
    },
    {
      "cell_type": "markdown",
      "id": "818d932e",
      "metadata": {
        "lines_to_next_cell": 0
      },
      "source": [
        "Next step is to count the logins..."
      ]
    },
    {
      "cell_type": "code",
      "execution_count": 7,
      "id": "3dba1f50",
      "metadata": {
        "execution": {
          "iopub.execute_input": "2023-01-20T13:47:26.689538Z",
          "iopub.status.busy": "2023-01-20T13:47:26.689372Z",
          "iopub.status.idle": "2023-01-20T13:47:26.691428Z",
          "shell.execute_reply": "2023-01-20T13:47:26.691138Z"
        },
        "lines_to_next_cell": 0
      },
      "outputs": [],
      "source": [
        "logins_counted = grouped_by_minutes.reduce(\n",
        "    by_minutes.time, by_minutes.ip_address, count=pw.reducers.count(by_minutes.id)\n",
        ")"
      ]
    },
    {
      "cell_type": "markdown",
      "id": "16651805",
      "metadata": {
        "lines_to_next_cell": 0
      },
      "source": [
        "...and to keep only incidents where number of failed logins exceeded the threshold."
      ]
    },
    {
      "cell_type": "code",
      "execution_count": 8,
      "id": "0d5d19e8",
      "metadata": {
        "execution": {
          "iopub.execute_input": "2023-01-20T13:47:26.692617Z",
          "iopub.status.busy": "2023-01-20T13:47:26.692455Z",
          "iopub.status.idle": "2023-01-20T13:47:26.698096Z",
          "shell.execute_reply": "2023-01-20T13:47:26.697812Z"
        }
      },
      "outputs": [
        {
          "name": "stdout",
          "output_type": "stream",
          "text": [
            "            | time                | ip_address    | count\n",
            "^DKEYHS4... | 2018-12-25T10:30:00 | 50.37.169.241 | 7\n"
          ]
        }
      ],
      "source": [
        "suspicious_logins = logins_counted.filter(pw.this.count >= 5)\n",
        "pw.debug.compute_and_print(suspicious_logins)"
      ]
    }
  ],
  "metadata": {
    "kernelspec": {
      "display_name": "Python 3 (ipykernel)",
      "language": "python",
      "name": "python3"
    },
    "language_info": {
      "codemirror_mode": {
        "name": "ipython",
        "version": 3
      },
      "file_extension": ".py",
      "mimetype": "text/x-python",
      "name": "python",
      "nbconvert_exporter": "python",
      "pygments_lexer": "ipython3",
      "version": "3.10.8"
    }
  },
  "nbformat": 4,
  "nbformat_minor": 5
}