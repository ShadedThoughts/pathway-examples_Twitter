{
  "cells": [
    {
      "cell_type": "markdown",
      "metadata": {
        "id": "view-in-colab"
      },
      "source": [
        "<a href=\"https://colab.research.google.com/github/pathwaycom/pathway-examples/blob/main/documentation/survival_guide.ipynb\" target=\"_parent\"><img src=\"https://pathway.com/assets/colab-badge.svg\" alt=\"Run In Colab\" class=\"inline\"/></a>"
      ]
    },
    {
      "cell_type": "markdown",
      "source": [
        "# [Colab-specific instructions] Installing Python 3.8+ and Pathway\n",
        "\n",
        "> Pathway requires Python >=3.8 and works best with Python 3.10.\n",
        ">\n",
        "> In the cell below we install pathway into any Python 3.8+ runtime!\n",
        "> Please:\n",
        "> 1. **IF running under Google Colab, do \"File\" -> \"Save a copy in Drive\"**, before running any cell.\n",
        "> 2. **Insert in the form below the pip install link** given to you with your beta access.\n",
        "> 3. **Run the colab notebook (Ctrl+F9)**, disregarding the 'not authored by Google' warning. **The installation and loading time is about 2 minutes**.\n"
      ],
      "metadata": {
        "id": "notebook-instructions"
      }
    },
    {
      "cell_type": "code",
      "source": [
        "#@title \u2699\ufe0f Pathway installer. Please provide the pip install link for Pathway:\n",
        "# Please copy here the installation line:\n",
        "PATHWAY_INSTALL_LINE='' #@param {type:\"string\"}\n",
        "\n",
        "if PATHWAY_INSTALL_LINE.startswith('pip install '):\n",
        "    PATHWAY_INSTALL_LINE=PATHWAY_INSTALL_LINE[len('pip install '):]\n",
        "\n",
        "class InterruptExecution(Exception):\n",
        "    def _render_traceback_(self):\n",
        "        pass\n",
        "\n",
        "if '...' in PATHWAY_INSTALL_LINE or not PATHWAY_INSTALL_LINE.startswith('https://'):\n",
        "    print(\n",
        "        \"\u26d4 Please register at https://pathway.com/developers/documentation/introduction/installation-and-first-steps\\n\"\n",
        "        \"to Copy & Paste the Linux pip install line for Pathway!\"\n",
        "    )\n",
        "    raise InterruptExecution\n",
        "\n",
        "DO_INSTALL = False\n",
        "import sys\n",
        "if sys.version_info >= (3, 8):\n",
        "    print(f'\u2705 Python {sys.version} is active.')\n",
        "    try:\n",
        "        import pathway as pw\n",
        "        print('\u2705 Pathway successfully imported.')\n",
        "    except:\n",
        "        DO_INSTALL = True\n",
        "else:\n",
        "    print(\"\u26d4 Pathway requires Python 3.8 or higher.\")\n",
        "    raise InterruptExecution\n",
        "\n",
        "if DO_INSTALL:\n",
        "    ![ -d /usr/local/lib/python3.10/site-packages/pathway ] || echo \"\u231b Installing Pathway. This usually takes 2-3 minutes...\"\n",
        "    ![ -d /usr/local/lib/python3.10/site-packages/pathway ] || pip install {PATHWAY_INSTALL_LINE} 1>/dev/null 2>/dev/null\n",
        "    ![ -d /usr/local/lib/python3.10/site-packages/pathway ] || echo \"\u26d4 Installation failed. Don't be shy to reach out to the community at https://pathway.com !\" \n",
        "    ![ -d /usr/local/lib/python3.10/site-packages/pathway ] && echo \"\ud83d\udd03 All installed. Enjoy Pathway!\"\n"
      ],
      "metadata": {
        "id": "pip-installation-pathway",
        "cellView": "form"
      },
      "execution_count": null,
      "outputs": []
    },
    {
      "cell_type": "markdown",
      "id": "b253ff42",
      "metadata": {},
      "source": [
        "# Pathway: a survival guide\n",
        "Must-read for both first-timers and veterans alike, this guide gathers the most commonly used basic elements of Pathway.\n",
        "\n",
        "\n",
        "While the Pathway programming framework comes with advanced functionalities such as [classifiers](https://pathway.com/developers/showcases/lsh/lsh_chapter1) or [fuzzy-joins](https://pathway.com/developers/showcases/fuzzy_join/fuzzy_join_chapter1), it is essential to master the basic operations at the core of the framework.\n",
        "As part of this survival guide, we are going to walk through the following topics:\n",
        "* [Select and notations](#select-and-notations)\n",
        "* [Manipulating the table](#manipulating-the-table)\n",
        "* [Working with multiples tables: union, concatenation, join](#working-with-multiple-tables-union-concatenation-join)\n",
        "* [Updating](#updating)\n",
        "* [Computing](#operations)\n",
        "\n",
        "If you want more information you can see our complete [API docs](https://pathway.com/developers/documentation/api-docs/pathway) or some of our [tutorials](https://pathway.com/developers/tutorials/suspicious_activity_tumbling_window).\n",
        "\n",
        "## Prerequisite\n",
        "\n",
        "Be sure to import Pathway, and we need some tables:"
      ]
    },
    {
      "cell_type": "code",
      "execution_count": 1,
      "id": "fc55347e",
      "metadata": {
        "execution": {
          "iopub.execute_input": "2022-12-27T23:59:16.241242Z",
          "iopub.status.busy": "2022-12-27T23:59:16.240811Z",
          "iopub.status.idle": "2022-12-27T23:59:17.744705Z",
          "shell.execute_reply": "2022-12-27T23:59:17.743957Z"
        }
      },
      "outputs": [],
      "source": [
        "import pathway as pw\n",
        "\n",
        "t_name = pw.debug.table_from_markdown(\n",
        "    \"\"\"\n",
        "    | name\n",
        " 1  | Alice\n",
        " 2  | Bob\n",
        " 3  | Carole\n",
        " \"\"\"\n",
        ")\n",
        "t_age = pw.debug.table_from_markdown(\n",
        "    \"\"\"\n",
        "    | age\n",
        " 1  | 25\n",
        " 2  | 32\n",
        " 3  | 28\n",
        " \"\"\"\n",
        ")\n",
        "t_david = pw.debug.table_from_markdown(\n",
        "    \"\"\"\n",
        "    | name  | age\n",
        " 4  | David | 25\n",
        " \"\"\"\n",
        ")"
      ]
    },
    {
      "cell_type": "markdown",
      "id": "984ebcb3",
      "metadata": {},
      "source": [
        "We can display a snapshot of our table (for debugging purposes) using `pw.debug.compute_and_print()`:"
      ]
    },
    {
      "cell_type": "code",
      "execution_count": 2,
      "id": "701a5a87",
      "metadata": {
        "execution": {
          "iopub.execute_input": "2022-12-27T23:59:17.747724Z",
          "iopub.status.busy": "2022-12-27T23:59:17.747350Z",
          "iopub.status.idle": "2022-12-27T23:59:17.752589Z",
          "shell.execute_reply": "2022-12-27T23:59:17.752013Z"
        }
      },
      "outputs": [
        {
          "name": "stdout",
          "output_type": "stream",
          "text": [
            "            | name\n",
            "^2TMTFGY... | Alice\n",
            "^YHZBTNY... | Bob\n",
            "^SERVYWW... | Carole\n"
          ]
        }
      ],
      "source": [
        "pw.debug.compute_and_print(t_name)"
      ]
    },
    {
      "cell_type": "markdown",
      "id": "f7ac6572",
      "metadata": {},
      "source": [
        "In the following we will omit this for clarity reasons but keep in mind that it is required to print the actual data at a given time."
      ]
    },
    {
      "cell_type": "markdown",
      "id": "98a75d51",
      "metadata": {},
      "source": [
        "## Select and notations\n",
        "\n",
        " The main way to manipulate a table in Pathway is by using the `select` operation.\n",
        "\n",
        " * **The dot notation**: we can use `select` to select a particular column and we can use the dot notation to specify the name of the column. For example, we can access the column \"name\" of our `t_extra` table:"
      ]
    },
    {
      "cell_type": "code",
      "execution_count": 3,
      "id": "b771588b",
      "metadata": {
        "execution": {
          "iopub.execute_input": "2022-12-27T23:59:17.754834Z",
          "iopub.status.busy": "2022-12-27T23:59:17.754372Z",
          "iopub.status.idle": "2022-12-27T23:59:17.758516Z",
          "shell.execute_reply": "2022-12-27T23:59:17.757783Z"
        }
      },
      "outputs": [
        {
          "name": "stdout",
          "output_type": "stream",
          "text": [
            "            | name\n",
            "^8GR6BSX... | David\n"
          ]
        }
      ],
      "source": [
        "t_david.select(t_david.name)"
      ]
    },
    {
      "cell_type": "markdown",
      "id": "d88720b5",
      "metadata": {},
      "source": [
        " * **The bracket notation**: we can also use string to access the column **the bracket notation**. The previous example is equivalent to ```t_david.select(t_david[\"name\"])```."
      ]
    },
    {
      "cell_type": "markdown",
      "id": "0e4e68c4",
      "metadata": {},
      "source": [
        " * The **this notation**: to refer to the table currently manipulated we can use `pw.this`. Our example becomes `t_david.select(pw.this.name)`.\n",
        "This notation works for all standard transformers.\n",
        "    > It can be use to refer to the table, even if it has not been given a name, for example in a successive operations:"
      ]
    },
    {
      "cell_type": "code",
      "execution_count": 4,
      "id": "2528d2d7",
      "metadata": {
        "execution": {
          "iopub.execute_input": "2022-12-27T23:59:17.760678Z",
          "iopub.status.busy": "2022-12-27T23:59:17.760168Z",
          "iopub.status.idle": "2022-12-27T23:59:17.765076Z",
          "shell.execute_reply": "2022-12-27T23:59:17.764508Z"
        }
      },
      "outputs": [
        {
          "name": "stdout",
          "output_type": "stream",
          "text": [
            "            | new_age_plus_7\n",
            "^8GR6BSX... | 32\n"
          ]
        }
      ],
      "source": [
        "t_new_age = t_david.select(new_age=pw.this.age).select(\n",
        "    new_age_plus_7=pw.this.new_age + 7\n",
        ")\n",
        "pw.debug.compute_and_print(t_new_age)"
      ]
    },
    {
      "cell_type": "markdown",
      "id": "3c6d3b75",
      "metadata": {},
      "source": [
        "In this example, it would be impossible to refer to the table obtained after the first select (with the column `new_age`) without using `pw.this` as `t_david` still refer to the initial and unmodified table."
      ]
    },
    {
      "cell_type": "markdown",
      "id": "553e08b8",
      "metadata": {},
      "source": [
        " * **left and right notations**: similarly to the this notation, `pw.left` and `pw.right` can be used to manipulate the different tables used in a [join](#working-with-multiples-tables-union-concatenation-join).\n",
        "    > `left_table.join(right_table, pw.left.C1==pw.right.C2).select(pw.left.C3, pw.right.C4)`\n",
        "    \n",
        "For more information about the join and the use of `pw.left` and `pw.right`, you can see the dedicated [section](#working-with-multiples-tables-union-concatenation-join) and [manual](join-manual)."
      ]
    },
    {
      "cell_type": "markdown",
      "id": "5afe7340",
      "metadata": {},
      "source": [
        " * The **star * notation**: this notation is used to select all the columns of the manipulated table. `table.select(*pw.this)` will return the full table.\n",
        "It can be combined with `.without` to remove the unwanted columns:\n",
        "\n",
        "    > In our example, instead of selecting the \"name\" column, we want to select all the columns except the \"age\" one. This is obtained as follows:"
      ]
    },
    {
      "cell_type": "code",
      "execution_count": 5,
      "id": "e4a2cdf1",
      "metadata": {
        "execution": {
          "iopub.execute_input": "2022-12-27T23:59:17.767128Z",
          "iopub.status.busy": "2022-12-27T23:59:17.766800Z",
          "iopub.status.idle": "2022-12-27T23:59:17.770820Z",
          "shell.execute_reply": "2022-12-27T23:59:17.770258Z"
        }
      },
      "outputs": [
        {
          "name": "stdout",
          "output_type": "stream",
          "text": [
            "            | name\n",
            "^8GR6BSX... | David\n"
          ]
        }
      ],
      "source": [
        "t_david.select(*pw.this.without(pw.this.age))"
      ]
    },
    {
      "cell_type": "markdown",
      "id": "a960f87a",
      "metadata": {},
      "source": [
        "## Manipulating the table\n",
        "\n",
        "In addition to `select`, Pathway provides more operators to manipulate and index the tables."
      ]
    },
    {
      "cell_type": "markdown",
      "id": "9f6ac8fa",
      "metadata": {},
      "source": [
        " * **Filtering**: we can use `filter` to keep rows following a given property."
      ]
    },
    {
      "cell_type": "code",
      "execution_count": 6,
      "id": "ef205782",
      "metadata": {
        "execution": {
          "iopub.execute_input": "2022-12-27T23:59:17.772928Z",
          "iopub.status.busy": "2022-12-27T23:59:17.772602Z",
          "iopub.status.idle": "2022-12-27T23:59:17.776961Z",
          "shell.execute_reply": "2022-12-27T23:59:17.776432Z"
        }
      },
      "outputs": [
        {
          "name": "stdout",
          "output_type": "stream",
          "text": [
            "            | age\n",
            "^YHZBTNY... | 32\n"
          ]
        }
      ],
      "source": [
        "t_age.filter(pw.this.age>30)"
      ]
    },
    {
      "cell_type": "markdown",
      "id": "1d330aac",
      "metadata": {},
      "source": [
        " * **Reindexing**: you can change the ids (accessible by `table.id`) by using `.with_id_from()`.\n",
        "We need a table with new ids:"
      ]
    },
    {
      "cell_type": "code",
      "execution_count": 7,
      "id": "0763f07f",
      "metadata": {
        "execution": {
          "iopub.execute_input": "2022-12-27T23:59:17.779000Z",
          "iopub.status.busy": "2022-12-27T23:59:17.778586Z",
          "iopub.status.idle": "2022-12-27T23:59:17.786335Z",
          "shell.execute_reply": "2022-12-27T23:59:17.785336Z"
        }
      },
      "outputs": [],
      "source": [
        "t_new_ids = pw.debug.table_from_markdown(\n",
        "    \"\"\"\n",
        "    | new_id_source\n",
        " 1  | 4\n",
        " 2  | 5\n",
        " 3  | 6\n",
        " \"\"\"\n",
        ")"
      ]
    },
    {
      "cell_type": "code",
      "execution_count": 8,
      "id": "43f294de",
      "metadata": {
        "execution": {
          "iopub.execute_input": "2022-12-27T23:59:17.788866Z",
          "iopub.status.busy": "2022-12-27T23:59:17.788391Z",
          "iopub.status.idle": "2022-12-27T23:59:17.796638Z",
          "shell.execute_reply": "2022-12-27T23:59:17.795921Z"
        }
      },
      "outputs": [
        {
          "name": "stdout",
          "output_type": "stream",
          "text": [
            "            | name\n",
            "^8GR6BSX... | Alice\n",
            "^76QPWK3... | Bob\n",
            "^C4S6S48... | Carole\n"
          ]
        }
      ],
      "source": [
        "t_name.unsafe_promise_universe_is_subset_of(t_new_ids).with_id_from(t_new_ids.new_id_source)"
      ]
    },
    {
      "cell_type": "markdown",
      "id": "e4126d27",
      "metadata": {},
      "source": [
        "Here we need to use `unsafe_promise_universe_is_subset_of`, you can find the explanation in our [article](https://pathway.com/developers/documentation/introduction/key-concepts) about Pathway's concepts.\n",
        "\n",
        "* **ix**: uses a column's values as indexes.\n",
        "As an example, if we have a table containing with indexes pointing to another table, we can use this `ix` to obtain those lines:"
      ]
    },
    {
      "cell_type": "code",
      "execution_count": 9,
      "id": "3dd996c6",
      "metadata": {
        "execution": {
          "iopub.execute_input": "2022-12-27T23:59:17.798644Z",
          "iopub.status.busy": "2022-12-27T23:59:17.798473Z",
          "iopub.status.idle": "2022-12-27T23:59:17.808306Z",
          "shell.execute_reply": "2022-12-27T23:59:17.807563Z"
        }
      },
      "outputs": [
        {
          "name": "stdout",
          "output_type": "stream",
          "text": [
            "            | selected\n",
            "^M1T2QKJ... | Alice\n",
            "^9WGHV46... | Carole\n"
          ]
        }
      ],
      "source": [
        "t_selected_ids = pw.debug.table_from_markdown(\n",
        "    \"\"\"\n",
        "      | selected_id\n",
        " 100  | 1\n",
        " 200  | 3\n",
        " \"\"\"\n",
        ")\n",
        "t_selected_ids.select(selected=t_name.ix_ref(t_selected_ids.selected_id).name)"
      ]
    },
    {
      "cell_type": "markdown",
      "id": "d868ffe6",
      "metadata": {},
      "source": [
        "* **Group-by**: we can use `groupby` to aggregate data sharing a common property and then use a reducer to compute an aggregated value."
      ]
    },
    {
      "cell_type": "code",
      "execution_count": 10,
      "id": "518901ab",
      "metadata": {
        "execution": {
          "iopub.execute_input": "2022-12-27T23:59:17.810672Z",
          "iopub.status.busy": "2022-12-27T23:59:17.810184Z",
          "iopub.status.idle": "2022-12-27T23:59:17.820762Z",
          "shell.execute_reply": "2022-12-27T23:59:17.819988Z"
        }
      },
      "outputs": [
        {
          "name": "stdout",
          "output_type": "stream",
          "text": [
            "            | name  | sum\n",
            "^TSP7EFT... | Alice | 175\n",
            "^4PVZ777... | Bob   | 300\n"
          ]
        }
      ],
      "source": [
        "t_spending = pw.debug.table_from_markdown(\n",
        "    \"\"\"\n",
        "    | name  | amount\n",
        " 1  | Bob   | 100\n",
        " 2  | Alice | 50\n",
        " 3  | Alice | 125\n",
        " 4  | Bob   | 200\n",
        " \"\"\"\n",
        ")\n",
        "t_spending.groupby(pw.this.name).reduce(pw.this.name, sum=pw.reducers.sum(pw.this.amount))"
      ]
    },
    {
      "cell_type": "markdown",
      "id": "f91ac0ed",
      "metadata": {},
      "source": [
        "You can do groupbys on multiples columns at once (e.g. `.groupby(t.colA, t.colB)`).\n",
        "The list of all the available reducers can be found [here](https://pathway.com/developers/documentation/api-docs/reducers).\n",
        "\n",
        "If you want to find out more about the `groupby` and `reduce` operations, you can read our [article](groupby-reduce-manual) about it.\n",
        "\n",
        "## Working with multiples tables: union, concatenation, join\n",
        "\n",
        " * **Union**: we can use the operator `+` or `+=` to add compute the union of two tables sharing the same ids."
      ]
    },
    {
      "cell_type": "code",
      "execution_count": 11,
      "id": "9d460c44",
      "metadata": {
        "execution": {
          "iopub.execute_input": "2022-12-27T23:59:17.822843Z",
          "iopub.status.busy": "2022-12-27T23:59:17.822678Z",
          "iopub.status.idle": "2022-12-27T23:59:17.829805Z",
          "shell.execute_reply": "2022-12-27T23:59:17.829082Z"
        }
      },
      "outputs": [
        {
          "name": "stdout",
          "output_type": "stream",
          "text": [
            "            | name   | age\n",
            "^2TMTFGY... | Alice  | 25\n",
            "^YHZBTNY... | Bob    | 32\n",
            "^SERVYWW... | Carole | 28\n"
          ]
        }
      ],
      "source": [
        "t_age = t_age.unsafe_promise_same_universe_as(t_name)\n",
        "t_union = t_name + t_age\n",
        ""
      ]
    },
    {
      "cell_type": "markdown",
      "id": "6a8e726a",
      "metadata": {},
      "source": [
        "* **Concatenation**: we can use `Table.concat(t1,t2)` to concatenate two tables, but they need to have the same ids."
      ]
    },
    {
      "cell_type": "code",
      "execution_count": 12,
      "id": "615c8e3b",
      "metadata": {
        "execution": {
          "iopub.execute_input": "2022-12-27T23:59:17.832177Z",
          "iopub.status.busy": "2022-12-27T23:59:17.831700Z",
          "iopub.status.idle": "2022-12-27T23:59:17.840492Z",
          "shell.execute_reply": "2022-12-27T23:59:17.839769Z"
        }
      },
      "outputs": [
        {
          "name": "stdout",
          "output_type": "stream",
          "text": [
            "            | name   | age\n",
            "^531BJZ8... | Alice  | 25\n",
            "^9SVRC47... | Bob    | 32\n",
            "^R5XMQ21... | Carole | 28\n",
            "^C4VQQCA... | David  | 25\n"
          ]
        }
      ],
      "source": [
        "pw.Table.concat(t_union,t_david)"
      ]
    },
    {
      "cell_type": "markdown",
      "id": "de2098d9",
      "metadata": {},
      "source": [
        "As you can see, Pathway may reindex the obtained tables.\n",
        "\n",
        "> **Info for Databricks Delta users**: Concatenation is highly similar to the SQL [`MERGE INTO`](https://docs.databricks.com/sql/language-manual/delta-merge-into.html) operation.\n",
        "\n",
        "* **Join**: we can do all usual types of joins in Pathway (inner, outer, left, right). The example below presents an inner join:"
      ]
    },
    {
      "cell_type": "code",
      "execution_count": 13,
      "id": "2927ca8f",
      "metadata": {
        "execution": {
          "iopub.execute_input": "2022-12-27T23:59:17.842492Z",
          "iopub.status.busy": "2022-12-27T23:59:17.842325Z",
          "iopub.status.idle": "2022-12-27T23:59:17.852472Z",
          "shell.execute_reply": "2022-12-27T23:59:17.851689Z"
        }
      },
      "outputs": [
        {
          "name": "stdout",
          "output_type": "stream",
          "text": [
            "            | age | name\n",
            "^VJ3K9DF... | 25  | Alice\n",
            "^R0GE4WM... | 28  | Carole\n",
            "^V1RPZW8... | 32  | Bob\n"
          ]
        }
      ],
      "source": [
        "t_age.join(t_name, t_age.id==t_name.id).select(t_age.age, t_name.name)"
      ]
    },
    {
      "cell_type": "markdown",
      "id": "6981f9e9",
      "metadata": {},
      "source": [
        "Note that in the equality `t_age.id==t_name.id` the left part must be a column of the table on which the join is done, namely `t_name` in our example. Doing `t_name.id==t_age.id` would throw an error.\n",
        "\n",
        "For more visibility, the `pw.left` and `pw.right` notations should be used:"
      ]
    },
    {
      "cell_type": "code",
      "execution_count": 14,
      "id": "5a6070a8",
      "metadata": {
        "execution": {
          "iopub.execute_input": "2022-12-27T23:59:17.854674Z",
          "iopub.status.busy": "2022-12-27T23:59:17.854310Z",
          "iopub.status.idle": "2022-12-27T23:59:17.863261Z",
          "shell.execute_reply": "2022-12-27T23:59:17.862520Z"
        }
      },
      "outputs": [
        {
          "name": "stdout",
          "output_type": "stream",
          "text": [
            "            | age | name\n",
            "^VJ3K9DF... | 25  | Alice\n",
            "^R0GE4WM... | 28  | Carole\n",
            "^V1RPZW8... | 32  | Bob\n"
          ]
        }
      ],
      "source": [
        "t_age.join(t_name, pw.left.id == pw.right.id).select(pw.left.age, pw.right.name)"
      ]
    },
    {
      "cell_type": "markdown",
      "id": "f17a2334",
      "metadata": {},
      "source": [
        "If you want more info about joins, we have an entire [manu\\[a\\]l](join-manual) about it!\n",
        "\n",
        "## Updating\n",
        "\n",
        "* **Adding a new column with a default value** with `select`:"
      ]
    },
    {
      "cell_type": "code",
      "execution_count": 15,
      "id": "905cdeba",
      "metadata": {
        "execution": {
          "iopub.execute_input": "2022-12-27T23:59:17.865289Z",
          "iopub.status.busy": "2022-12-27T23:59:17.865120Z",
          "iopub.status.idle": "2022-12-27T23:59:17.873397Z",
          "shell.execute_reply": "2022-12-27T23:59:17.872678Z"
        }
      },
      "outputs": [
        {
          "name": "stdout",
          "output_type": "stream",
          "text": [
            "            | age | adult\n",
            "^2TMTFGY... | 25  | True\n",
            "^SERVYWW... | 28  | True\n",
            "^YHZBTNY... | 32  | True\n"
          ]
        }
      ],
      "source": [
        "t_age.select(*pw.this, adult=True)"
      ]
    },
    {
      "cell_type": "markdown",
      "id": "834e3580",
      "metadata": {},
      "source": [
        "The value can be a basic operation on the columns:"
      ]
    },
    {
      "cell_type": "code",
      "execution_count": 16,
      "id": "4d27358a",
      "metadata": {
        "execution": {
          "iopub.execute_input": "2022-12-27T23:59:17.875479Z",
          "iopub.status.busy": "2022-12-27T23:59:17.875307Z",
          "iopub.status.idle": "2022-12-27T23:59:17.994481Z",
          "shell.execute_reply": "2022-12-27T23:59:17.993552Z"
        }
      },
      "outputs": [
        {
          "name": "stdout",
          "output_type": "stream",
          "text": [
            "            | age | thirties\n",
            "^2TMTFGY... | 25  | False\n",
            "^SERVYWW... | 28  | False\n",
            "^YHZBTNY... | 32  | True\n"
          ]
        }
      ],
      "source": [
        "t_age.select(*pw.this, thirties=pw.this.age>=30)"
      ]
    },
    {
      "cell_type": "markdown",
      "id": "b522af82",
      "metadata": {},
      "source": [
        "* **Renaming** with `select`:"
      ]
    },
    {
      "cell_type": "code",
      "execution_count": 17,
      "id": "edef04fb",
      "metadata": {
        "execution": {
          "iopub.execute_input": "2022-12-27T23:59:17.997099Z",
          "iopub.status.busy": "2022-12-27T23:59:17.996659Z",
          "iopub.status.idle": "2022-12-27T23:59:18.005881Z",
          "shell.execute_reply": "2022-12-27T23:59:18.005149Z"
        }
      },
      "outputs": [
        {
          "name": "stdout",
          "output_type": "stream",
          "text": [
            "            | surname\n",
            "^2TMTFGY... | Alice\n",
            "^YHZBTNY... | Bob\n",
            "^SERVYWW... | Carole\n"
          ]
        }
      ],
      "source": [
        "t_name.select(surname=pw.this.name)"
      ]
    },
    {
      "cell_type": "markdown",
      "id": "3b646d24",
      "metadata": {
        "lines_to_next_cell": 2
      },
      "source": [
        " * **Renaming** with `rename_columns`:"
      ]
    },
    {
      "cell_type": "code",
      "execution_count": 18,
      "id": "557dc939",
      "metadata": {
        "execution": {
          "iopub.execute_input": "2022-12-27T23:59:18.008361Z",
          "iopub.status.busy": "2022-12-27T23:59:18.007846Z",
          "iopub.status.idle": "2022-12-27T23:59:18.016439Z",
          "shell.execute_reply": "2022-12-27T23:59:18.015708Z"
        }
      },
      "outputs": [
        {
          "name": "stdout",
          "output_type": "stream",
          "text": [
            "            | surname\n",
            "^2TMTFGY... | Alice\n",
            "^YHZBTNY... | Bob\n",
            "^SERVYWW... | Carole\n"
          ]
        }
      ],
      "source": [
        "t_name.rename_columns(surname=pw.this.name)"
      ]
    },
    {
      "cell_type": "markdown",
      "id": "cc21dd51",
      "metadata": {},
      "source": [
        " * **Updating cells**: you can the values of cells using `update_cells` which can be also done using the binary operator `<<`. The ids and column names should be the same."
      ]
    },
    {
      "cell_type": "code",
      "execution_count": 19,
      "id": "daa9a695",
      "metadata": {
        "execution": {
          "iopub.execute_input": "2022-12-27T23:59:18.018964Z",
          "iopub.status.busy": "2022-12-27T23:59:18.018270Z",
          "iopub.status.idle": "2022-12-27T23:59:18.032135Z",
          "shell.execute_reply": "2022-12-27T23:59:18.031340Z"
        }
      },
      "outputs": [
        {
          "name": "stdout",
          "output_type": "stream",
          "text": [
            "            | name\n",
            "^2TMTFGY... | Alicia\n",
            "^YHZBTNY... | Bobby\n",
            "^SERVYWW... | Caro\n"
          ]
        }
      ],
      "source": [
        "t_updated_names = pw.debug.table_from_markdown(\n",
        "    \"\"\"\n",
        "    | name\n",
        " 1  | Alicia\n",
        " 2  | Bobby\n",
        " 3  | Caro\n",
        " \"\"\"\n",
        ")\n",
        "t_updated_names = t_updated_names.unsafe_promise_same_universe_as(t_name)\n",
        "t_name.update_cells(t_updated_names)"
      ]
    },
    {
      "cell_type": "markdown",
      "id": "766658b4",
      "metadata": {},
      "source": [
        "## Operations\n",
        "\n",
        "* **Row-centered operations** with `apply`: you can apply a function to each value of a column (or more) by using `apply` in a `select`."
      ]
    },
    {
      "cell_type": "code",
      "execution_count": 20,
      "id": "7e92d777",
      "metadata": {
        "execution": {
          "iopub.execute_input": "2022-12-27T23:59:18.034618Z",
          "iopub.status.busy": "2022-12-27T23:59:18.034103Z",
          "iopub.status.idle": "2022-12-27T23:59:18.043482Z",
          "shell.execute_reply": "2022-12-27T23:59:18.042742Z"
        }
      },
      "outputs": [
        {
          "name": "stdout",
          "output_type": "stream",
          "text": [
            "            | thirties\n",
            "^2TMTFGY... | False\n",
            "^SERVYWW... | False\n",
            "^YHZBTNY... | True\n"
          ]
        }
      ],
      "source": [
        "t_age.select(thirties=pw.apply(lambda x: x>30, pw.this.age)))"
      ]
    },
    {
      "cell_type": "markdown",
      "id": "b47d5267",
      "metadata": {},
      "source": [
        "Operations on multiples values of a single row can be easily done this way:"
      ]
    },
    {
      "cell_type": "code",
      "execution_count": 21,
      "id": "4c793d0c",
      "metadata": {
        "execution": {
          "iopub.execute_input": "2022-12-27T23:59:18.045842Z",
          "iopub.status.busy": "2022-12-27T23:59:18.045379Z",
          "iopub.status.idle": "2022-12-27T23:59:18.058283Z",
          "shell.execute_reply": "2022-12-27T23:59:18.057505Z"
        }
      },
      "outputs": [
        {
          "name": "stdout",
          "output_type": "stream",
          "text": [
            "            | sum\n",
            "^2TMTFGY... | 11\n",
            "^YHZBTNY... | 1100\n"
          ]
        }
      ],
      "source": [
        "t_multiples_values = pw.debug.table_from_markdown(\n",
        "    \"\"\"\n",
        "    | valA    | valB\n",
        " 1  | 1       | 10\n",
        " 2  | 100     | 1000\n",
        " \"\"\"\n",
        ")\n",
        "t_multiples_values.select(sum=pw.apply(lambda x,y: x+y, pw.this.valA, pw.this.valB))"
      ]
    },
    {
      "cell_type": "markdown",
      "id": "6639988d",
      "metadata": {},
      "source": [
        "* Other operations with **transformer classes**: Pathway enables complex computation on data stream by using transformer classes.\n",
        "It is a bit advanced for this survival guide but you can find all the information about transformer classes in [our tutorial](https://pathway.com/developers/documentation/transformer-classes/transformer-intro)."
      ]
    }
  ],
  "metadata": {
    "jupytext": {
      "cell_metadata_filter": "-all",
      "main_language": "python",
      "notebook_metadata_filter": "-all"
    },
    "language_info": {
      "codemirror_mode": {
        "name": "ipython",
        "version": 3
      },
      "file_extension": ".py",
      "mimetype": "text/x-python",
      "name": "python",
      "nbconvert_exporter": "python",
      "pygments_lexer": "ipython3",
      "version": "3.10.8"
    }
  },
  "nbformat": 4,
  "nbformat_minor": 5
}