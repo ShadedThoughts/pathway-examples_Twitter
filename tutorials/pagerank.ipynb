{
  "cells": [
    {
      "cell_type": "markdown",
      "metadata": {
        "id": "view-in-colab"
      },
      "source": [
        "<a href=\"https://colab.research.google.com/github/pathwaycom/pathway-examples/blob/main/tutorials/pagerank.ipynb\" target=\"_parent\"><img src=\"https://pathway.com/assets/colab-badge.svg\" alt=\"Run In Colab\" class=\"inline\"/></a>"
      ]
    },
    {
      "cell_type": "markdown",
      "source": [
        "# Setting up Python and Pathway\n",
        "\n",
        "Pathway requires Python >=3.8 and works best with Python 3.10.\n",
        "Pathway can be installed using pip, please register at https://pathway.com to get beta access to the package.\n",
        "\n",
        "Please copy the entire pip command in the following cell and execute the two first cells to install Pathway:\n"
      ],
      "metadata": {
        "id": "notebook-instructions"
      }
    },
    {
      "cell_type": "markdown",
      "source": [
        "Insert the pip link:"
      ],
      "metadata": {
        "id": "pip-link"
      }
    },
    {
      "cell_type": "code",
      "source": [
        "PIP_COMMAND=\"\""
      ],
      "metadata": {
        "id": "pip-package-link"
      },
      "execution_count": null,
      "outputs": []
    },
    {
      "cell_type": "code",
      "source": [
        "#@title\n",
        "import sys\n",
        "if not PIP_COMMAND:\n",
        "    print(\n",
        "        \"\u26d4 Please register at https://pathway.com/developers/documentation/introduction/installation-and-first-steps\\n\"\n",
        "        \"To get the pip package installation link!\"\n",
        "    )\n",
        "elif not (sys.version_info >= (3, 8)):\n",
        "    print(\"\u26d4 Pathway requires Python 3.8 or higher.\")\n",
        "else:\n",
        "    !{PIP_COMMAND} 1>/dev/null 2>/dev/null\n",
        "    print('\u2705 Pathway installed')\n"
      ],
      "metadata": {
        "id": "pip-installation-pathway",
        "cellView": "form"
      },
      "execution_count": null,
      "outputs": []
    },
    {
      "cell_type": "markdown",
      "id": "f9bda2f4",
      "metadata": {},
      "source": [
        "# Computing PageRank\n",
        "\n",
        "## Introduction\n",
        "PageRank is best known for its success in ranking web pages in Google Search engine.\n",
        "Here is a [quick description](https://en.wikipedia.org/w/index.php?title=PageRank&oldid=1111494883):\n",
        "> PageRank works by counting the number and quality of links to a page to determine a\n",
        "> rough estimate of how important the website is. The underlying assumption is that\n",
        "> more important websites are likely to receive more links from other websites.\n",
        "\n",
        "In fact, the algorithm outputs a probability distribution that represents the\n",
        "likelihood of arriving at any particular page after randomly clicking on links for a while.\n",
        "We will simulate this behavior by the following 'surfing the Internet' procedure:\n",
        "- Initially, at each page, some amount of people start surfing the internet from that page.\n",
        "- In each turn, some users decide to click on a random link and visit a new page.\n",
        "- We iterate for fixed number of rounds.\n",
        "\n",
        "This article assumes that you are already familiar with some basics of [Pathway transformers](https://pathway.com/developers/documentation/introduction/key-concepts).\n",
        "\n",
        "## Code\n",
        "First things first - imports and constants."
      ]
    },
    {
      "cell_type": "code",
      "execution_count": 1,
      "id": "3e92b634",
      "metadata": {
        "execution": {
          "iopub.execute_input": "2022-12-27T23:03:48.333984Z",
          "iopub.status.busy": "2022-12-27T23:03:48.333832Z",
          "iopub.status.idle": "2022-12-27T23:03:49.789801Z",
          "shell.execute_reply": "2022-12-27T23:03:49.789008Z"
        }
      },
      "outputs": [],
      "source": [
        "from typing import Any\n",
        "\n",
        "import pathway as pw"
      ]
    },
    {
      "cell_type": "markdown",
      "id": "c1b1a745",
      "metadata": {
        "lines_to_next_cell": 0
      },
      "source": [
        "### I/O Data\n",
        "We use an `Edge` schema to represent the graph and `Result` schema to represent the final ranks."
      ]
    },
    {
      "cell_type": "code",
      "execution_count": 2,
      "id": "7eb3a3f0",
      "metadata": {
        "execution": {
          "iopub.execute_input": "2022-12-27T23:03:49.793135Z",
          "iopub.status.busy": "2022-12-27T23:03:49.792860Z",
          "iopub.status.idle": "2022-12-27T23:03:49.796267Z",
          "shell.execute_reply": "2022-12-27T23:03:49.795770Z"
        }
      },
      "outputs": [],
      "source": [
        "class Edge(pw.Schema):\n",
        "    u: Any\n",
        "    v: Any\n",
        "\n",
        "\n",
        "class Result(pw.Schema):\n",
        "    rank: float"
      ]
    },
    {
      "cell_type": "markdown",
      "id": "0499228f",
      "metadata": {
        "lines_to_next_cell": 0
      },
      "source": [
        "`pagerank` performs one turn of 'surfing the Internet' procedure by uniformly\n",
        "distributing rank from each node to all its adjacent nodes, for a fixed number of rounds.\n"
      ]
    },
    {
      "cell_type": "code",
      "execution_count": 3,
      "id": "e31b99a8",
      "metadata": {
        "execution": {
          "iopub.execute_input": "2022-12-27T23:03:49.798414Z",
          "iopub.status.busy": "2022-12-27T23:03:49.798002Z",
          "iopub.status.idle": "2022-12-27T23:03:49.803310Z",
          "shell.execute_reply": "2022-12-27T23:03:49.802795Z"
        }
      },
      "outputs": [],
      "source": [
        "def pagerank(edges: pw.Table[Edge], steps: int = 50) -> pw.Table[Result]:\n",
        "    degrees = edges.groupby(id=edges.u).reduce(\n",
        "        degree=pw.reducers.count(None)\n",
        "    )  # indexed by refs to vertices\n",
        "    ranks = degrees.select(rank=1.0)  # indexed by refs to vertices\n",
        "\n",
        "    for step in range(steps):\n",
        "        # if a node has no degree, its degree is 0 and we can ignore its outflow\n",
        "        outflow = ranks.intersect(degrees).select(\n",
        "            flow=ranks.rank / degrees.degree\n",
        "        )  # indexed by refs to vertices\n",
        "\n",
        "        edges_flows = outflow.having(edges.u).select(\n",
        "            edges.v, flow=outflow.ix[edges.u].flow\n",
        "        )\n",
        "\n",
        "        inflows = edges_flows.groupby(id=edges_flows.v).reduce(\n",
        "            flow=pw.reducers.sum(edges_flows.flow)\n",
        "        )  # indexed by refs to vertices\n",
        "\n",
        "        ranks = inflows.select(\n",
        "            rank=pw.apply_with_type(\n",
        "                lambda x: round(x, 4), float, inflows.flow * 0.85 + 0.15\n",
        "            ),\n",
        "        )  # indexed by refs to vertices\n",
        "\n",
        "    return ranks"
      ]
    },
    {
      "cell_type": "markdown",
      "id": "ce9e676c",
      "metadata": {
        "lines_to_next_cell": 0
      },
      "source": [
        "### Tests\n",
        "We present two easy test cases here.\n",
        "A test case with a single 3-vertices loop with one backward edge."
      ]
    },
    {
      "cell_type": "code",
      "execution_count": 4,
      "id": "324fba9a",
      "metadata": {
        "execution": {
          "iopub.execute_input": "2022-12-27T23:03:49.805231Z",
          "iopub.status.busy": "2022-12-27T23:03:49.805081Z",
          "iopub.status.idle": "2022-12-27T23:03:50.119185Z",
          "shell.execute_reply": "2022-12-27T23:03:50.118267Z"
        }
      },
      "outputs": [
        {
          "name": "stdout",
          "output_type": "stream",
          "text": [
            "            | rank\n",
            "^EGS8DW6... | 0.6444\n",
            "^76BNCAZ... | 1.1634\n",
            "^JASWCNM... | 1.1923\n"
          ]
        }
      ],
      "source": [
        "# directed graph\n",
        "vertices = pw.debug.table_from_markdown(\n",
        "    \"\"\"\n",
        "      |\n",
        "    a |\n",
        "    b |\n",
        "    c |\n",
        "    \"\"\"\n",
        ").select()\n",
        "edges = pw.debug.table_from_markdown(\n",
        "    \"\"\"\n",
        "    u | v\n",
        "    a | b\n",
        "    b | c\n",
        "    c | a\n",
        "    c | b\n",
        "    \"\"\",\n",
        ").select(u=vertices.pointer_from(pw.this.u), v=vertices.pointer_from(pw.this.v))\n",
        "\n",
        "pw.debug.compute_and_print(pagerank(edges))"
      ]
    },
    {
      "cell_type": "markdown",
      "id": "35331950",
      "metadata": {},
      "source": [
        "Why these numbers? 0.6444, 1.1923, 1.1634? Feel free to skip the quite mathy explanation below.\n",
        "\n",
        "Let us calculate what a correct answer should be.\n",
        "PageRank actually finds a [stationary distribution](https://en.wikipedia.org/wiki/Markov_chain#Stationary_distribution_relation_to_eigenvectors_and_simplices)\n",
        "of a random walk on a graph in which the probability of each move depends only on the\n",
        "currently visited state, i.e. it is a Markov Chain.\n",
        "\n",
        "One may think that the transition matrix of the Markov chain in our example is\n",
        "$$\n",
        "P=\\left(\\begin{array}{cc}\n",
        "0.05 & 0.9 & 0.05\\\\\n",
        "0.05 & 0.05 & 0.9\\\\\n",
        "0.475 & 0.475 & 0.05\n",
        "\\end{array}\\right)\n",
        "$$\n",
        "We move to a new page with probability 5/6 uniformly distributed among all the linked (adjacent) pages,\n",
        "and with probability 1/6 we mix uniformly at random.\n",
        "The result is a stationary distribution roughly of $(x = ( 0.215 \\quad  0.397 \\quad 0.388) )$ which is proportional to the rank returned.\n",
        "The difference is due to rank not being normalized.\n",
        "\n",
        "### Summary\n",
        "As always, feel free to play and experiment with this code! In case you are looking for cool real-world\n",
        "graphs to experiment with, the [Stanford Network Analysis Project](https://snap.stanford.edu/) is an excellent source\n",
        "of reference instances, big and small."
      ]
    }
  ],
  "metadata": {
    "kernelspec": {
      "display_name": "Python 3 (ipykernel)",
      "language": "python",
      "name": "python3"
    },
    "language_info": {
      "codemirror_mode": {
        "name": "ipython",
        "version": 3
      },
      "file_extension": ".py",
      "mimetype": "text/x-python",
      "name": "python",
      "nbconvert_exporter": "python",
      "pygments_lexer": "ipython3",
      "version": "3.10.8"
    }
  },
  "nbformat": 4,
  "nbformat_minor": 5
}